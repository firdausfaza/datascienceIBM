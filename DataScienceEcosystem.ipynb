{
 "cells": [
  {
   "cell_type": "markdown",
   "metadata": {},
   "source": [
    "# Data Science Tools and Ecosystem\n",
    "In this notebook, Data Science Tools and Ecosystem are summarized.\n",
    "\n"
   ]
  },
  {
   "cell_type": "markdown",
   "metadata": {},
   "source": [
    "Some of the popular languages that Data Scientists use are:\n",
    "1. Python\n",
    "2. R \n",
    "3. SQL"
   ]
  },
  {
   "cell_type": "markdown",
   "metadata": {},
   "source": [
    "### Some of the commonly used libraries used by Data Scientists include:\n",
    "\n",
    "\n",
    "Here is a list of popular data science libraries commonly used in Python:\n",
    "\n",
    "1. **NumPy**: Fundamental package for numerical computing with Python.\n",
    "\n",
    "2. **pandas**: Data manipulation and analysis library.\n",
    "\n",
    "3. **scikit-learn**: Machine learning library for classification, regression, clustering, etc.\n",
    "\n",
    "4. **Matplotlib**: 2D plotting library for creating visualizations.\n",
    "\n",
    "5. **Seaborn**: Data visualization library based on Matplotlib, with easier-to-use functions.\n",
    "\n",
    "6. **TensorFlow**: An open-source machine learning framework developed by Google.\n",
    "\n",
    "7. **Keras**: High-level neural networks API, often used with TensorFlow.\n",
    "\n",
    "8. **PyTorch**: An open-source machine learning library developed by Facebook's AI Research lab.\n",
    "\n",
    "9. **SciPy**: Library for scientific and technical computing.\n",
    "\n",
    "10. **Statsmodels**: Provides classes and functions for statistical models.\n",
    "\n",
    "11. **NLTK**: Natural Language Toolkit for text processing and NLP.\n",
    "\n",
    "12. **XGBoost**: An optimized gradient boosting library for machine learning.\n",
    "\n",
    "13. **LightGBM**: A gradient boosting framework developed by Microsoft.\n",
    "\n",
    "\n"
   ]
  },
  {
   "cell_type": "markdown",
   "metadata": {},
   "source": [
    "# Data Science Tools.\n",
    "### Popular Data Science Tools and Platforms\n",
    "\n",
    "Data science often involves the use of various tools and platforms to perform tasks like data analysis, machine learning, data visualization, and more. Here are some of the popular data science tools and platforms:\n",
    "\n",
    "1. **Jupyter Notebook**: An open-source web application for creating and sharing documents containing live code, equations, visualizations, and narrative text. It's a favorite environment for data exploration and analysis.\n",
    "\n",
    "2. **RStudio**: An integrated development environment (IDE) for R, a language widely used in data science and statistics.\n",
    "\n",
    "3. **Anaconda**: A distribution of Python and R for scientific computing, including package and environment management.\n",
    "\n",
    "4. **Tableau**: A powerful data visualization tool that allows you to create interactive and shareable dashboards.\n",
    "\n",
    "5. **Power BI**: A business analytics tool by Microsoft for visualizing data and sharing insights.\n",
    "\n",
    "6. **SAS**: A comprehensive software suite for advanced analytics, business intelligence, and data management.\n",
    "\n",
    "7. **IBM Watson Studio**: A cloud-based platform for data science and machine learning by IBM.\n",
    "\n",
    "8. **Apache Jupyter**: An open-source project for interactive data science and scientific computing across all programming languages.\n",
    "\n",
    "9. **Apache Spark**: An open-source, distributed computing system used for big data processing and machine learning.\n",
    "\n",
    "10. **KNIME**: An open-source platform for data analytics, reporting, and integration.\n",
    "\n",
    "11. **H2O.ai**: A platform for building machine learning models with a focus on AI and machine learning.\n",
    "\n",
    "12. **Databricks**: A unified analytics platform that combines big data processing and machine learning.\n",
    "\n",
    "13. **Alteryx**: A data blending and advanced analytics platform.\n",
    "\n",
    "14. **RapidMiner**\n"
   ]
  },
  {
   "cell_type": "code",
   "execution_count": 1,
   "metadata": {},
   "outputs": [
    {
     "data": {
      "text/plain": [
       "17"
      ]
     },
     "execution_count": 1,
     "metadata": {},
     "output_type": "execute_result"
    }
   ],
   "source": [
    "# This is a simple arithmetic expression to multiply then add integers.\n",
    "result = (3 * 4) + 5\n",
    "result\n"
   ]
  },
  {
   "cell_type": "code",
   "execution_count": 2,
   "metadata": {},
   "outputs": [
    {
     "data": {
      "text/plain": [
       "3.3333333333333335"
      ]
     },
     "execution_count": 2,
     "metadata": {},
     "output_type": "execute_result"
    }
   ],
   "source": [
    "minutes = 200\n",
    "hours = minutes / 60\n",
    "\n",
    "hours"
   ]
  },
  {
   "cell_type": "markdown",
   "metadata": {},
   "source": [
    "**Objectives:**\n",
    "\n",
    "- List popular languages for Data Science.\n",
    "- Highlight common Data Science libraries in Python.\n",
    "- Mention some of the popular Data Science tools and platforms.\n",
    "- Provide an example of evaluating an arithmetic expression in Python.\n",
    "- Explain how to create ordered and unordered lists in Markdown.\n",
    "\n",
    "These are some of the key takeaways from this notebook.\n"
   ]
  },
  {
   "cell_type": "markdown",
   "metadata": {},
   "source": [
    "## Author\n",
    "\n",
    "[Firdaus Aulia Faza]\n"
   ]
  },
  {
   "cell_type": "code",
   "execution_count": null,
   "metadata": {},
   "outputs": [],
   "source": []
  }
 ],
 "metadata": {
  "kernelspec": {
   "display_name": "base",
   "language": "python",
   "name": "python3"
  },
  "language_info": {
   "codemirror_mode": {
    "name": "ipython",
    "version": 3
   },
   "file_extension": ".py",
   "mimetype": "text/x-python",
   "name": "python",
   "nbconvert_exporter": "python",
   "pygments_lexer": "ipython3",
   "version": "3.11.5"
  }
 },
 "nbformat": 4,
 "nbformat_minor": 2
}
